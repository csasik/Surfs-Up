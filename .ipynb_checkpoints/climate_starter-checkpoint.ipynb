{
 "cells": [
  {
   "cell_type": "code",
   "execution_count": 288,
   "metadata": {},
   "outputs": [],
   "source": [
    "%matplotlib inline\n",
    "from matplotlib import style\n",
    "style.use('fivethirtyeight')\n",
    "import matplotlib.pyplot as plt"
   ]
  },
  {
   "cell_type": "code",
   "execution_count": 289,
   "metadata": {},
   "outputs": [],
   "source": [
    "import numpy as np\n",
    "import pandas as pd"
   ]
  },
  {
   "cell_type": "code",
   "execution_count": 332,
   "metadata": {},
   "outputs": [],
   "source": [
    "import datetime as dt\n",
    "from datetime import timedelta\n",
    "import dateutil.relativedelta "
   ]
  },
  {
   "cell_type": "markdown",
   "metadata": {},
   "source": [
    "# Reflect Tables into SQLAlchemy ORM"
   ]
  },
  {
   "cell_type": "code",
   "execution_count": 331,
   "metadata": {},
   "outputs": [],
   "source": [
    "# Python SQL toolkit and Object Relational Mapper\n",
    "import sqlalchemy\n",
    "from sqlalchemy.ext.automap import automap_base\n",
    "from sqlalchemy.orm import Session\n",
    "from sqlalchemy import create_engine, func"
   ]
  },
  {
   "cell_type": "code",
   "execution_count": 292,
   "metadata": {},
   "outputs": [],
   "source": [
    "engine = create_engine(\"sqlite:///Resources/hawaii.sqlite\")"
   ]
  },
  {
   "cell_type": "code",
   "execution_count": 293,
   "metadata": {},
   "outputs": [],
   "source": [
    "# reflect an existing database into a new model\n",
    "Base = automap_base()\n",
    "# reflect the tables\n",
    "Base.prepare(engine, reflect=True"
   ]
  },
  {
   "cell_type": "code",
   "execution_count": 294,
   "metadata": {},
   "outputs": [
    {
     "data": {
      "text/plain": [
       "['measurement', 'station']"
      ]
     },
     "execution_count": 294,
     "metadata": {},
     "output_type": "execute_result"
    }
   ],
   "source": [
    "# We can view all of the classes that automap found\n",
    "Base.classes.keys()"
   ]
  },
  {
   "cell_type": "code",
   "execution_count": 295,
   "metadata": {},
   "outputs": [],
   "source": [
    "# Save references to each table\n",
    "Measurement = Base.classes.measurement\n",
    "Station = Base.classes.station"
   ]
  },
  {
   "cell_type": "code",
   "execution_count": 296,
   "metadata": {},
   "outputs": [],
   "source": [
    "# Create our session (link) from Python to the DB\n",
    "session = Session(engine)"
   ]
  },
  {
   "cell_type": "code",
   "execution_count": 297,
   "metadata": {},
   "outputs": [
    {
     "data": {
      "text/plain": [
       "{'_sa_instance_state': <sqlalchemy.orm.state.InstanceState at 0x1988df2f978>,\n",
       " 'tobs': 65.0,\n",
       " 'date': '2010-01-01',\n",
       " 'station': 'USC00519397',\n",
       " 'prcp': 0.08,\n",
       " 'id': 1}"
      ]
     },
     "execution_count": 297,
     "metadata": {},
     "output_type": "execute_result"
    }
   ],
   "source": [
    "first_row = session.query(Measurement).first()\n",
    "first_row.__dict__"
   ]
  },
  {
   "cell_type": "code",
   "execution_count": 298,
   "metadata": {},
   "outputs": [
    {
     "data": {
      "text/plain": [
       "{'_sa_instance_state': <sqlalchemy.orm.state.InstanceState at 0x1988df3f550>,\n",
       " 'longitude': -157.8168,\n",
       " 'name': 'WAIKIKI 717.2, HI US',\n",
       " 'id': 1,\n",
       " 'elevation': 3.0,\n",
       " 'latitude': 21.2716,\n",
       " 'station': 'USC00519397'}"
      ]
     },
     "execution_count": 298,
     "metadata": {},
     "output_type": "execute_result"
    }
   ],
   "source": [
    "first_row = session.query(Station).first()\n",
    "first_row.__dict__"
   ]
  },
  {
   "cell_type": "markdown",
   "metadata": {},
   "source": [
    "# Exploratory Climate Analysis"
   ]
  },
  {
   "cell_type": "code",
   "execution_count": 299,
   "metadata": {},
   "outputs": [
    {
     "name": "stdout",
     "output_type": "stream",
     "text": [
      "2018-10-13\n",
      "2016-08-23 00:00:00\n"
     ]
    }
   ],
   "source": [
    "#find last 12 months dates and precipitation\n",
    "max_date = session.query(Measurement).order_by(Measurement.date.desc()).first().date\n",
    "import datetime\n",
    "\n",
    "#todays_date = datetime.datetime.today().strftime('%Y-%m-%d')\n",
    "\n",
    "d = datetime.datetime.strptime(max_date, \"%Y-%m-%d\")\n",
    "d2 = d - dateutil.relativedelta.relativedelta(months=12)\n",
    "\n",
    "print(todays_date)\n",
    "print(d2)\n"
   ]
  },
  {
   "cell_type": "code",
   "execution_count": 300,
   "metadata": {},
   "outputs": [],
   "source": [
    "prcp_data = session.query(Measurement.date, Measurement.prcp).\\\n",
    "    filter(Measurement.date > d2).all()\n",
    "\n",
    "dates = []\n",
    "prcp = []\n",
    "\n",
    "for row in prcp_data:\n",
    "    dates.append(row.date)\n",
    "    prcp.append(row.prcp)\n"
   ]
  },
  {
   "cell_type": "code",
   "execution_count": 301,
   "metadata": {},
   "outputs": [
    {
     "data": {
      "text/html": [
       "<div>\n",
       "<style scoped>\n",
       "    .dataframe tbody tr th:only-of-type {\n",
       "        vertical-align: middle;\n",
       "    }\n",
       "\n",
       "    .dataframe tbody tr th {\n",
       "        vertical-align: top;\n",
       "    }\n",
       "\n",
       "    .dataframe thead th {\n",
       "        text-align: right;\n",
       "    }\n",
       "</style>\n",
       "<table border=\"1\" class=\"dataframe\">\n",
       "  <thead>\n",
       "    <tr style=\"text-align: right;\">\n",
       "      <th></th>\n",
       "      <th>date</th>\n",
       "      <th>prcp</th>\n",
       "    </tr>\n",
       "  </thead>\n",
       "  <tbody>\n",
       "    <tr>\n",
       "      <th>0</th>\n",
       "      <td>2016-08-24</td>\n",
       "      <td>0.08</td>\n",
       "    </tr>\n",
       "    <tr>\n",
       "      <th>1</th>\n",
       "      <td>2016-08-25</td>\n",
       "      <td>0.08</td>\n",
       "    </tr>\n",
       "    <tr>\n",
       "      <th>2</th>\n",
       "      <td>2016-08-26</td>\n",
       "      <td>0.00</td>\n",
       "    </tr>\n",
       "    <tr>\n",
       "      <th>3</th>\n",
       "      <td>2016-08-27</td>\n",
       "      <td>0.00</td>\n",
       "    </tr>\n",
       "    <tr>\n",
       "      <th>4</th>\n",
       "      <td>2016-08-28</td>\n",
       "      <td>0.01</td>\n",
       "    </tr>\n",
       "  </tbody>\n",
       "</table>\n",
       "</div>"
      ],
      "text/plain": [
       "         date  prcp\n",
       "0  2016-08-24  0.08\n",
       "1  2016-08-25  0.08\n",
       "2  2016-08-26  0.00\n",
       "3  2016-08-27  0.00\n",
       "4  2016-08-28  0.01"
      ]
     },
     "execution_count": 301,
     "metadata": {},
     "output_type": "execute_result"
    }
   ],
   "source": [
    "#make a dataframe\n",
    "prcp_dict = {'date':dates,'prcp':prcp}\n",
    "prcp_df = pd.DataFrame(prcp_dict)\n",
    "prcp_df.set_index('date')\n",
    "prcp_df.head()\n"
   ]
  },
  {
   "cell_type": "code",
   "execution_count": 302,
   "metadata": {},
   "outputs": [
    {
     "data": {
      "text/plain": [
       "<matplotlib.legend.Legend at 0x1988df2f0b8>"
      ]
     },
     "execution_count": 302,
     "metadata": {},
     "output_type": "execute_result"
    },
    {
     "data": {
      "image/png": "[encoded data removed]",
      "text/plain": [
       "<Figure size 432x288 with 1 Axes>"
      ]
     },
     "metadata": {},
     "output_type": "display_data"
    }
   ],
   "source": [
    "#plot the results\n",
    "prcp_df.plot('date','prcp')\n",
    "plt.legend()"
   ]
  },
  {
   "cell_type": "code",
   "execution_count": 163,
   "metadata": {},
   "outputs": [
    {
     "data": {
      "text/html": [
       "<div>\n",
       "<style scoped>\n",
       "    .dataframe tbody tr th:only-of-type {\n",
       "        vertical-align: middle;\n",
       "    }\n",
       "\n",
       "    .dataframe tbody tr th {\n",
       "        vertical-align: top;\n",
       "    }\n",
       "\n",
       "    .dataframe thead th {\n",
       "        text-align: right;\n",
       "    }\n",
       "</style>\n",
       "<table border=\"1\" class=\"dataframe\">\n",
       "  <thead>\n",
       "    <tr style=\"text-align: right;\">\n",
       "      <th></th>\n",
       "      <th>prcp</th>\n",
       "    </tr>\n",
       "  </thead>\n",
       "  <tbody>\n",
       "    <tr>\n",
       "      <th>count</th>\n",
       "      <td>2015.000000</td>\n",
       "    </tr>\n",
       "    <tr>\n",
       "      <th>mean</th>\n",
       "      <td>0.176462</td>\n",
       "    </tr>\n",
       "    <tr>\n",
       "      <th>std</th>\n",
       "      <td>0.460288</td>\n",
       "    </tr>\n",
       "    <tr>\n",
       "      <th>min</th>\n",
       "      <td>0.000000</td>\n",
       "    </tr>\n",
       "    <tr>\n",
       "      <th>25%</th>\n",
       "      <td>0.000000</td>\n",
       "    </tr>\n",
       "    <tr>\n",
       "      <th>50%</th>\n",
       "      <td>0.020000</td>\n",
       "    </tr>\n",
       "    <tr>\n",
       "      <th>75%</th>\n",
       "      <td>0.130000</td>\n",
       "    </tr>\n",
       "    <tr>\n",
       "      <th>max</th>\n",
       "      <td>6.700000</td>\n",
       "    </tr>\n",
       "  </tbody>\n",
       "</table>\n",
       "</div>"
      ],
      "text/plain": [
       "              prcp\n",
       "count  2015.000000\n",
       "mean      0.176462\n",
       "std       0.460288\n",
       "min       0.000000\n",
       "25%       0.000000\n",
       "50%       0.020000\n",
       "75%       0.130000\n",
       "max       6.700000"
      ]
     },
     "execution_count": 163,
     "metadata": {},
     "output_type": "execute_result"
    }
   ],
   "source": [
    "#summary statistics\n",
    "prcp_df.describe()"
   ]
  },
  {
   "cell_type": "code",
   "execution_count": 303,
   "metadata": {},
   "outputs": [
    {
     "name": "stdout",
     "output_type": "stream",
     "text": [
      "No of stations - 9\n"
     ]
    }
   ],
   "source": [
    "# How many stations are available in this dataset?\n",
    "stations = session.query(Station.station).distinct().count()\n",
    "print(f'No of stations - {stations}')"
   ]
  },
  {
   "cell_type": "code",
   "execution_count": 304,
   "metadata": {},
   "outputs": [
    {
     "data": {
      "text/plain": [
       "[('USC00519281', 2772),\n",
       " ('USC00519397', 2724),\n",
       " ('USC00513117', 2709),\n",
       " ('USC00519523', 2669),\n",
       " ('USC00516128', 2612),\n",
       " ('USC00514830', 2202),\n",
       " ('USC00511918', 1979),\n",
       " ('USC00517948', 1372),\n",
       " ('USC00518838', 511)]"
      ]
     },
     "execution_count": 304,
     "metadata": {},
     "output_type": "execute_result"
    }
   ],
   "source": [
    "# What are the most active stations?\n",
    "# List the stations and the counts in descending order.\n",
    "session.query(Measurement.station, func.count(Measurement.tobs) ).\\\n",
    "    group_by(Measurement.station).\\\n",
    "    order_by(func.count(Measurement.tobs).desc()).\\\n",
    "    all()"
   ]
  },
  {
   "cell_type": "code",
   "execution_count": 214,
   "metadata": {},
   "outputs": [
    {
     "data": {
      "text/plain": [
       "[('USC00519281', 54.0, 85.0, 71.66378066378067)]"
      ]
     },
     "execution_count": 214,
     "metadata": {},
     "output_type": "execute_result"
    }
   ],
   "source": [
    "# Using the station id from the previous query, calculate the lowest temperature recorded, \n",
    "# highest temperature recorded, and average temperature most active station?\n",
    "session.query(Measurement.station, func.min(Measurement.tobs), func.max(Measurement.tobs), func.avg(Measurement.tobs) ).\\\n",
    "    filter(Measurement.station == 'USC00519281').\\\n",
    "    all()"
   ]
  },
  {
   "cell_type": "code",
   "execution_count": 305,
   "metadata": {},
   "outputs": [],
   "source": [
    "# Choose the station with the highest number of temperature observations.\n",
    "\n",
    "# Query the last 12 months of temperature observation data for this station and plot the results as a histogram\n",
    "#find last 12 months dates and tobs\n",
    "tobs_data = session.query(Measurement.date, Measurement.tobs).\\\n",
    "    filter(Measurement.station == 'USC00519281').\\\n",
    "    filter(Measurement.date > d2).all()\n",
    "\n",
    "dates = []\n",
    "tobs = []\n",
    "\n",
    "for row in tobs_data:\n",
    "    dates.append(row.date)\n",
    "    tobs.append(row.tobs)\n",
    "\n"
   ]
  },
  {
   "cell_type": "code",
   "execution_count": 306,
   "metadata": {},
   "outputs": [
    {
     "data": {
      "text/plain": [
       "<matplotlib.legend.Legend at 0x1988dfceac8>"
      ]
     },
     "execution_count": 306,
     "metadata": {},
     "output_type": "execute_result"
    },
    {
     "data": {
      "image/png": "[encoded data removed]",
      "text/plain": [
       "<Figure size 432x288 with 1 Axes>"
      ]
     },
     "metadata": {},
     "output_type": "display_data"
    }
   ],
   "source": [
    "n, bins,patches  = plt.hist(x=tobs, bins=12, color='#0504aa',\n",
    "                            alpha=0.7, rwidth=1, label='tobs')\n",
    "plt.grid(axis='y', alpha=0.75)\n",
    "plt.ylabel('Frequency')\n",
    "plt.legend()"
   ]
  },
  {
   "cell_type": "code",
   "execution_count": 307,
   "metadata": {},
   "outputs": [
    {
     "name": "stdout",
     "output_type": "stream",
     "text": [
      "[(62.0, 69.57142857142857, 74.0)]\n"
     ]
    }
   ],
   "source": [
    "# Write a function called `calc_temps` that will accept start date and end date in the format '%Y-%m-%d' \n",
    "# and return the minimum, average, and maximum temperatures for that range of dates\n",
    "def calc_temps(start_date, end_date):\n",
    "    \"\"\"TMIN, TAVG, and TMAX for a list of dates.\n",
    "    \n",
    "    Args:\n",
    "        start_date (string): A date string in the format %Y-%m-%d\n",
    "        end_date (string): A date string in the format %Y-%m-%d\n",
    "        \n",
    "    Returns:\n",
    "        TMIN, TAVE, and TMAX\n",
    "    \"\"\"\n",
    "    \n",
    "    return session.query(func.min(Measurement.tobs), func.avg(Measurement.tobs), func.max(Measurement.tobs)).\\\n",
    "        filter(Measurement.date >= start_date).filter(Measurement.date <= end_date).all()\n",
    "\n",
    "\n",
    "print(calc_temps('2012-02-28', '2012-03-05'))"
   ]
  },
  {
   "cell_type": "code",
   "execution_count": 308,
   "metadata": {},
   "outputs": [
    {
     "name": "stdout",
     "output_type": "stream",
     "text": [
      "min temp is 61.0\n",
      "avg temp is 69.75510204081633\n",
      "max temp is 75.0\n"
     ]
    }
   ],
   "source": [
    "# Use your previous function `calc_temps` to calculate the tmin, tavg, and tmax \n",
    "# for your trip using the previous year's data for those same dates.\n",
    "[(tmin, tavg, tmax)] = calc_temps('2011-02-28', '2011-03-05')\n",
    "print(f'min temp is {tmin}')\n",
    "print(f'avg temp is {tavg}')\n",
    "print(f'max temp is {tmax}')\n",
    "values = calc_temps('2011-02-28', '2011-03-05')\n"
   ]
  },
  {
   "cell_type": "code",
   "execution_count": 309,
   "metadata": {},
   "outputs": [
    {
     "data": {
      "image/png": "[encoded data removed]",
      "text/plain": [
       "<Figure size 288x576 with 1 Axes>"
      ]
     },
     "metadata": {},
     "output_type": "display_data"
    }
   ],
   "source": [
    "# Plot the results from your previous query as a bar chart. \n",
    "# Use \"Trip Avg Temp\" as your Title\n",
    "# Use the average temperature for the y value\n",
    "# Use the peak-to-peak (tmax-tmin) value as the y error bar (yerr)\n",
    "xval = ''\n",
    "yval = tavg\n",
    "error  = tmax-tmin\n",
    "\n",
    "fig, ax = plt.subplots(figsize=(4, 8))\n",
    "ax.bar(xval ,yval, yerr = error, alpha=0.5, ecolor='black', width=.5)\n",
    "ax.set_title('Trip Avg Temp')\n",
    "ax.set_ylabel('Temp (f)')\n",
    "plt.savefig('Trip Avg Temp.png')"
   ]
  },
  {
   "cell_type": "markdown",
   "metadata": {},
   "source": [
    "## Optional Challenge Assignment"
   ]
  },
  {
   "cell_type": "code",
   "execution_count": 323,
   "metadata": {},
   "outputs": [],
   "source": [
    "# Calculate the rainfall per weather station for your trip dates using the previous year's matching dates.\n",
    "# Sort this in descending order by precipitation amount and list the station, name, latitude, longitude, and elevation\n",
    "\n",
    "def calc_rainfall(start_date, end_date):\n",
    "    sel = [Measurement.station,Measurement.prcp,Measurement.date,Station.name, Station.latitude, Station.longitude, Station.elevation ]\n",
    "\n",
    "    rainfall = session.query(*sel).filter( Measurement.station == Station.station).\\\n",
    "        filter(Measurement.date >= start_date).filter(Measurement.date <= end_date).\\\n",
    "        order_by(Measurement.prcp.desc())\n",
    "\n",
    "    for record in rainfall:\n",
    "        (station, prcp, date,name,latitude, longitude, elevation) = record\n",
    "        print(\n",
    "            f\"{prcp} {station} {name} {date} {latitude} {longitude} {elevation}\")"
   ]
  },
  {
   "cell_type": "code",
   "execution_count": 324,
   "metadata": {},
   "outputs": [
    {
     "name": "stdout",
     "output_type": "stream",
     "text": [
      "6.24 USC00519281 WAIHEE 837.5, HI US 2012-03-05 21.45167 -157.84888999999998 32.9\n",
      "5.71 USC00513117 KANEOHE 838.1, HI US 2012-03-05 21.4234 -157.8015 14.6\n",
      "5.37 USC00516128 MANOA LYON ARBO 785.2, HI US 2012-03-05 21.3331 -157.8025 152.4\n",
      "4.68 USC00519281 WAIHEE 837.5, HI US 2012-03-03 21.45167 -157.84888999999998 32.9\n",
      "2.71 USC00519523 WAIMANALO EXPERIMENTAL FARM, HI US 2012-03-05 21.33556 -157.71139 19.5\n",
      "2.7 USC00518838 UPPER WAHIAWA 874.3, HI US 2012-03-04 21.4992 -158.0111 306.6\n",
      "2.0 USC00516128 MANOA LYON ARBO 785.2, HI US 2012-03-04 21.3331 -157.8025 152.4\n",
      "1.1 USC00516128 MANOA LYON ARBO 785.2, HI US 2012-03-03 21.3331 -157.8025 152.4\n",
      "1.08 USC00519397 WAIKIKI 717.2, HI US 2012-03-05 21.2716 -157.8168 3.0\n",
      "0.92 USC00518838 UPPER WAHIAWA 874.3, HI US 2012-03-05 21.4992 -158.0111 306.6\n",
      "0.7 USC00511918 HONOLULU OBSERVATORY 702.2, HI US 2012-03-05 21.3152 -157.9992 0.9\n",
      "0.64 USC00516128 MANOA LYON ARBO 785.2, HI US 2012-03-01 21.3331 -157.8025 152.4\n",
      "0.55 USC00516128 MANOA LYON ARBO 785.2, HI US 2012-02-29 21.3331 -157.8025 152.4\n",
      "0.4 USC00516128 MANOA LYON ARBO 785.2, HI US 2012-02-28 21.3331 -157.8025 152.4\n",
      "0.26 USC00516128 MANOA LYON ARBO 785.2, HI US 2012-03-02 21.3331 -157.8025 152.4\n",
      "0.22 USC00518838 UPPER WAHIAWA 874.3, HI US 2012-03-03 21.4992 -158.0111 306.6\n",
      "0.11 USC00519523 WAIMANALO EXPERIMENTAL FARM, HI US 2012-03-03 21.33556 -157.71139 19.5\n",
      "0.1 USC00519523 WAIMANALO EXPERIMENTAL FARM, HI US 2012-03-04 21.33556 -157.71139 19.5\n",
      "0.07 USC00519281 WAIHEE 837.5, HI US 2012-03-04 21.45167 -157.84888999999998 32.9\n",
      "0.06 USC00519397 WAIKIKI 717.2, HI US 2012-03-01 21.2716 -157.8168 3.0\n",
      "0.05 USC00513117 KANEOHE 838.1, HI US 2012-03-03 21.4234 -157.8015 14.6\n",
      "0.05 USC00519281 WAIHEE 837.5, HI US 2012-02-28 21.45167 -157.84888999999998 32.9\n",
      "0.05 USC00511918 HONOLULU OBSERVATORY 702.2, HI US 2012-03-04 21.3152 -157.9992 0.9\n",
      "0.04 USC00519281 WAIHEE 837.5, HI US 2012-02-29 21.45167 -157.84888999999998 32.9\n",
      "0.03 USC00519397 WAIKIKI 717.2, HI US 2012-03-03 21.2716 -157.8168 3.0\n",
      "0.03 USC00513117 KANEOHE 838.1, HI US 2012-03-04 21.4234 -157.8015 14.6\n",
      "0.03 USC00514830 KUALOA RANCH HEADQUARTERS 886.9, HI US 2012-02-28 21.5213 -157.8374 7.0\n",
      "0.01 USC00519397 WAIKIKI 717.2, HI US 2012-03-04 21.2716 -157.8168 3.0\n",
      "0.01 USC00511918 HONOLULU OBSERVATORY 702.2, HI US 2012-02-29 21.3152 -157.9992 0.9\n",
      "0.0 USC00519397 WAIKIKI 717.2, HI US 2012-02-28 21.2716 -157.8168 3.0\n",
      "0.0 USC00519397 WAIKIKI 717.2, HI US 2012-02-29 21.2716 -157.8168 3.0\n",
      "0.0 USC00519397 WAIKIKI 717.2, HI US 2012-03-02 21.2716 -157.8168 3.0\n",
      "0.0 USC00513117 KANEOHE 838.1, HI US 2012-02-28 21.4234 -157.8015 14.6\n",
      "0.0 USC00513117 KANEOHE 838.1, HI US 2012-02-29 21.4234 -157.8015 14.6\n",
      "0.0 USC00513117 KANEOHE 838.1, HI US 2012-03-01 21.4234 -157.8015 14.6\n",
      "0.0 USC00513117 KANEOHE 838.1, HI US 2012-03-02 21.4234 -157.8015 14.6\n",
      "0.0 USC00514830 KUALOA RANCH HEADQUARTERS 886.9, HI US 2012-02-29 21.5213 -157.8374 7.0\n",
      "0.0 USC00514830 KUALOA RANCH HEADQUARTERS 886.9, HI US 2012-03-01 21.5213 -157.8374 7.0\n",
      "0.0 USC00514830 KUALOA RANCH HEADQUARTERS 886.9, HI US 2012-03-02 21.5213 -157.8374 7.0\n",
      "0.0 USC00517948 PEARL CITY, HI US 2012-02-28 21.3934 -157.9751 11.9\n",
      "0.0 USC00518838 UPPER WAHIAWA 874.3, HI US 2012-03-01 21.4992 -158.0111 306.6\n",
      "0.0 USC00519523 WAIMANALO EXPERIMENTAL FARM, HI US 2012-02-28 21.33556 -157.71139 19.5\n",
      "0.0 USC00519523 WAIMANALO EXPERIMENTAL FARM, HI US 2012-02-29 21.33556 -157.71139 19.5\n",
      "0.0 USC00519523 WAIMANALO EXPERIMENTAL FARM, HI US 2012-03-01 21.33556 -157.71139 19.5\n",
      "0.0 USC00519523 WAIMANALO EXPERIMENTAL FARM, HI US 2012-03-02 21.33556 -157.71139 19.5\n",
      "0.0 USC00519281 WAIHEE 837.5, HI US 2012-03-01 21.45167 -157.84888999999998 32.9\n",
      "0.0 USC00519281 WAIHEE 837.5, HI US 2012-03-02 21.45167 -157.84888999999998 32.9\n",
      "0.0 USC00511918 HONOLULU OBSERVATORY 702.2, HI US 2012-02-28 21.3152 -157.9992 0.9\n",
      "0.0 USC00511918 HONOLULU OBSERVATORY 702.2, HI US 2012-03-01 21.3152 -157.9992 0.9\n",
      "0.0 USC00511918 HONOLULU OBSERVATORY 702.2, HI US 2012-03-02 21.3152 -157.9992 0.9\n",
      "0.0 USC00511918 HONOLULU OBSERVATORY 702.2, HI US 2012-03-03 21.3152 -157.9992 0.9\n",
      "None USC00514830 KUALOA RANCH HEADQUARTERS 886.9, HI US 2012-03-05 21.5213 -157.8374 7.0\n",
      "None USC00517948 PEARL CITY, HI US 2012-02-29 21.3934 -157.9751 11.9\n",
      "None USC00517948 PEARL CITY, HI US 2012-03-01 21.3934 -157.9751 11.9\n",
      "None USC00517948 PEARL CITY, HI US 2012-03-02 21.3934 -157.9751 11.9\n",
      "None USC00518838 UPPER WAHIAWA 874.3, HI US 2012-02-29 21.4992 -158.0111 306.6\n"
     ]
    }
   ],
   "source": [
    "calc_rainfall('2012-02-28', '2012-03-05')"
   ]
  },
  {
   "cell_type": "code",
   "execution_count": 396,
   "metadata": {},
   "outputs": [
    {
     "data": {
      "text/plain": [
       "[(62.0, 69.15384615384616, 77.0)]"
      ]
     },
     "execution_count": 396,
     "metadata": {},
     "output_type": "execute_result"
    }
   ],
   "source": [
    "# Create a query that will calculate the daily normals \n",
    "# (i.e. the averages for tmin, tmax, and tavg for all historic data matching a specific month and day)\n",
    "\n",
    "def daily_normals(date):\n",
    "    \"\"\"Daily Normals.\n",
    "    \n",
    "    Args:\n",
    "        date (str): A date string in the format '%m-%d'\n",
    "        \n",
    "    Returns:\n",
    "        A list of tuples containing the daily normals, tmin, tavg, and tmax\n",
    "    \n",
    "    \"\"\"\n",
    "    \n",
    "    sel = [func.min(Measurement.tobs), func.avg(Measurement.tobs), func.max(Measurement.tobs)]\n",
    "    return session.query(*sel).filter(func.strftime(\"%m-%d\", Measurement.date) == date).all()\n",
    "    \n",
    "daily_normals(\"01-01\")"
   ]
  },
  {
   "cell_type": "code",
   "execution_count": 397,
   "metadata": {},
   "outputs": [],
   "source": [
    "# calculate the daily normals for your trip\n",
    "# Set the start and end date of the trip\n",
    "trip_dates = []\n",
    "dt = '2012-02-28'\n",
    "\n",
    "trip_start_dt = datetime.datetime.strptime(dt, \"%Y-%m-%d\")\n",
    "\n",
    "# Stip off the year and save a list of %m-%d strings\n",
    "trip_dates.append(trip_start_dt.strftime('%m-%d'))\n",
    "\n",
    "# Use the start and end date to create a range of dates\n",
    "for x in range(6):\n",
    "    trip_dates.append(next_day.strftime('%m-%d'))\n",
    "    next_day =  trip_start_dt + timedelta(days=1) \n",
    "    \n",
    "    trip_start_dt = next_day\n"
   ]
  },
  {
   "cell_type": "code",
   "execution_count": 423,
   "metadata": {},
   "outputs": [],
   "source": [
    "# # Loop through the list of %m-%d strings and calculate the normals for each date\n",
    "# # push each tuple of calculations into a list called `normals`\n",
    "normals = []\n",
    "dates =[]\n",
    "for date in trip_dates:\n",
    "    normals.append ( daily_normals(date))\n",
    "    dates.append(date) "
   ]
  },
  {
   "cell_type": "code",
   "execution_count": 445,
   "metadata": {},
   "outputs": [],
   "source": [
    "# collect the values from the tuple into list\n",
    "mins =[]\n",
    "avgs = []\n",
    "maxs = []\n",
    "for val in normals:\n",
    "    row = val[0]\n",
    "    mins.append ( row[0])\n",
    "    avgs.append (row[1])\n",
    "    maxs.append( row[2])\n",
    "   "
   ]
  },
  {
   "cell_type": "code",
   "execution_count": 456,
   "metadata": {},
   "outputs": [
    {
     "data": {
      "text/html": [
       "<div>\n",
       "<style scoped>\n",
       "    .dataframe tbody tr th:only-of-type {\n",
       "        vertical-align: middle;\n",
       "    }\n",
       "\n",
       "    .dataframe tbody tr th {\n",
       "        vertical-align: top;\n",
       "    }\n",
       "\n",
       "    .dataframe thead th {\n",
       "        text-align: right;\n",
       "    }\n",
       "</style>\n",
       "<table border=\"1\" class=\"dataframe\">\n",
       "  <thead>\n",
       "    <tr style=\"text-align: right;\">\n",
       "      <th></th>\n",
       "      <th>index</th>\n",
       "      <th>mins</th>\n",
       "      <th>avgs</th>\n",
       "      <th>maxs</th>\n",
       "      <th>dates</th>\n",
       "    </tr>\n",
       "  </thead>\n",
       "  <tbody>\n",
       "    <tr>\n",
       "      <th>0</th>\n",
       "      <td>0</td>\n",
       "      <td>65.0</td>\n",
       "      <td>70.655172</td>\n",
       "      <td>80.0</td>\n",
       "      <td>02-28</td>\n",
       "    </tr>\n",
       "    <tr>\n",
       "      <th>1</th>\n",
       "      <td>1</td>\n",
       "      <td>60.0</td>\n",
       "      <td>67.890909</td>\n",
       "      <td>76.0</td>\n",
       "      <td>03-05</td>\n",
       "    </tr>\n",
       "    <tr>\n",
       "      <th>2</th>\n",
       "      <td>2</td>\n",
       "      <td>67.0</td>\n",
       "      <td>71.733333</td>\n",
       "      <td>79.0</td>\n",
       "      <td>02-29</td>\n",
       "    </tr>\n",
       "    <tr>\n",
       "      <th>3</th>\n",
       "      <td>3</td>\n",
       "      <td>64.0</td>\n",
       "      <td>70.032787</td>\n",
       "      <td>76.0</td>\n",
       "      <td>03-01</td>\n",
       "    </tr>\n",
       "    <tr>\n",
       "      <th>4</th>\n",
       "      <td>4</td>\n",
       "      <td>61.0</td>\n",
       "      <td>70.366667</td>\n",
       "      <td>78.0</td>\n",
       "      <td>03-02</td>\n",
       "    </tr>\n",
       "    <tr>\n",
       "      <th>5</th>\n",
       "      <td>5</td>\n",
       "      <td>60.0</td>\n",
       "      <td>70.068966</td>\n",
       "      <td>78.0</td>\n",
       "      <td>03-03</td>\n",
       "    </tr>\n",
       "    <tr>\n",
       "      <th>6</th>\n",
       "      <td>6</td>\n",
       "      <td>57.0</td>\n",
       "      <td>69.272727</td>\n",
       "      <td>77.0</td>\n",
       "      <td>03-04</td>\n",
       "    </tr>\n",
       "  </tbody>\n",
       "</table>\n",
       "</div>"
      ],
      "text/plain": [
       "   index  mins       avgs  maxs  dates\n",
       "0      0  65.0  70.655172  80.0  02-28\n",
       "1      1  60.0  67.890909  76.0  03-05\n",
       "2      2  67.0  71.733333  79.0  02-29\n",
       "3      3  64.0  70.032787  76.0  03-01\n",
       "4      4  61.0  70.366667  78.0  03-02\n",
       "5      5  60.0  70.068966  78.0  03-03\n",
       "6      6  57.0  69.272727  77.0  03-04"
      ]
     },
     "execution_count": 456,
     "metadata": {},
     "output_type": "execute_result"
    }
   ],
   "source": [
    "# Load the previous query results into a Pandas DataFrame and add the `trip_dates` range as the `date` index\n",
    "\n",
    "normals_df = pd.DataFrame({\n",
    "            'mins':mins, \n",
    "            'avgs':avgs, \n",
    "            'maxs' : maxs,\n",
    "            'dates':dates } )\n",
    "\n"
   ]
  },
  {
   "cell_type": "code",
   "execution_count": 489,
   "metadata": {},
   "outputs": [
    {
     "data": {
      "text/html": [
       "<div>\n",
       "<style scoped>\n",
       "    .dataframe tbody tr th:only-of-type {\n",
       "        vertical-align: middle;\n",
       "    }\n",
       "\n",
       "    .dataframe tbody tr th {\n",
       "        vertical-align: top;\n",
       "    }\n",
       "\n",
       "    .dataframe thead th {\n",
       "        text-align: right;\n",
       "    }\n",
       "</style>\n",
       "<table border=\"1\" class=\"dataframe\">\n",
       "  <thead>\n",
       "    <tr style=\"text-align: right;\">\n",
       "      <th></th>\n",
       "      <th>index</th>\n",
       "      <th>mins</th>\n",
       "      <th>avgs</th>\n",
       "      <th>maxs</th>\n",
       "      <th>dates</th>\n",
       "    </tr>\n",
       "  </thead>\n",
       "  <tbody>\n",
       "    <tr>\n",
       "      <th>0</th>\n",
       "      <td>0</td>\n",
       "      <td>65.0</td>\n",
       "      <td>70.655172</td>\n",
       "      <td>80.0</td>\n",
       "      <td>02-28</td>\n",
       "    </tr>\n",
       "    <tr>\n",
       "      <th>1</th>\n",
       "      <td>1</td>\n",
       "      <td>60.0</td>\n",
       "      <td>67.890909</td>\n",
       "      <td>76.0</td>\n",
       "      <td>03-05</td>\n",
       "    </tr>\n",
       "    <tr>\n",
       "      <th>2</th>\n",
       "      <td>2</td>\n",
       "      <td>67.0</td>\n",
       "      <td>71.733333</td>\n",
       "      <td>79.0</td>\n",
       "      <td>02-29</td>\n",
       "    </tr>\n",
       "    <tr>\n",
       "      <th>3</th>\n",
       "      <td>3</td>\n",
       "      <td>64.0</td>\n",
       "      <td>70.032787</td>\n",
       "      <td>76.0</td>\n",
       "      <td>03-01</td>\n",
       "    </tr>\n",
       "    <tr>\n",
       "      <th>4</th>\n",
       "      <td>4</td>\n",
       "      <td>61.0</td>\n",
       "      <td>70.366667</td>\n",
       "      <td>78.0</td>\n",
       "      <td>03-02</td>\n",
       "    </tr>\n",
       "    <tr>\n",
       "      <th>5</th>\n",
       "      <td>5</td>\n",
       "      <td>60.0</td>\n",
       "      <td>70.068966</td>\n",
       "      <td>78.0</td>\n",
       "      <td>03-03</td>\n",
       "    </tr>\n",
       "    <tr>\n",
       "      <th>6</th>\n",
       "      <td>6</td>\n",
       "      <td>57.0</td>\n",
       "      <td>69.272727</td>\n",
       "      <td>77.0</td>\n",
       "      <td>03-04</td>\n",
       "    </tr>\n",
       "  </tbody>\n",
       "</table>\n",
       "</div>"
      ],
      "text/plain": [
       "   index  mins       avgs  maxs  dates\n",
       "0      0  65.0  70.655172  80.0  02-28\n",
       "1      1  60.0  67.890909  76.0  03-05\n",
       "2      2  67.0  71.733333  79.0  02-29\n",
       "3      3  64.0  70.032787  76.0  03-01\n",
       "4      4  61.0  70.366667  78.0  03-02\n",
       "5      5  60.0  70.068966  78.0  03-03\n",
       "6      6  57.0  69.272727  77.0  03-04"
      ]
     },
     "execution_count": 489,
     "metadata": {},
     "output_type": "execute_result"
    }
   ],
   "source": [
    "normals_df.reset_index()"
   ]
  },
  {
   "cell_type": "code",
   "execution_count": 492,
   "metadata": {},
   "outputs": [
    {
     "data": {
      "text/html": [
       "<div>\n",
       "<style scoped>\n",
       "    .dataframe tbody tr th:only-of-type {\n",
       "        vertical-align: middle;\n",
       "    }\n",
       "\n",
       "    .dataframe tbody tr th {\n",
       "        vertical-align: top;\n",
       "    }\n",
       "\n",
       "    .dataframe thead th {\n",
       "        text-align: right;\n",
       "    }\n",
       "</style>\n",
       "<table border=\"1\" class=\"dataframe\">\n",
       "  <thead>\n",
       "    <tr style=\"text-align: right;\">\n",
       "      <th></th>\n",
       "      <th>mins</th>\n",
       "      <th>avgs</th>\n",
       "      <th>maxs</th>\n",
       "    </tr>\n",
       "    <tr>\n",
       "      <th>dates</th>\n",
       "      <th></th>\n",
       "      <th></th>\n",
       "      <th></th>\n",
       "    </tr>\n",
       "  </thead>\n",
       "  <tbody>\n",
       "    <tr>\n",
       "      <th>02-28</th>\n",
       "      <td>65.0</td>\n",
       "      <td>70.655172</td>\n",
       "      <td>80.0</td>\n",
       "    </tr>\n",
       "    <tr>\n",
       "      <th>03-05</th>\n",
       "      <td>60.0</td>\n",
       "      <td>67.890909</td>\n",
       "      <td>76.0</td>\n",
       "    </tr>\n",
       "    <tr>\n",
       "      <th>02-29</th>\n",
       "      <td>67.0</td>\n",
       "      <td>71.733333</td>\n",
       "      <td>79.0</td>\n",
       "    </tr>\n",
       "    <tr>\n",
       "      <th>03-01</th>\n",
       "      <td>64.0</td>\n",
       "      <td>70.032787</td>\n",
       "      <td>76.0</td>\n",
       "    </tr>\n",
       "    <tr>\n",
       "      <th>03-02</th>\n",
       "      <td>61.0</td>\n",
       "      <td>70.366667</td>\n",
       "      <td>78.0</td>\n",
       "    </tr>\n",
       "    <tr>\n",
       "      <th>03-03</th>\n",
       "      <td>60.0</td>\n",
       "      <td>70.068966</td>\n",
       "      <td>78.0</td>\n",
       "    </tr>\n",
       "    <tr>\n",
       "      <th>03-04</th>\n",
       "      <td>57.0</td>\n",
       "      <td>69.272727</td>\n",
       "      <td>77.0</td>\n",
       "    </tr>\n",
       "  </tbody>\n",
       "</table>\n",
       "</div>"
      ],
      "text/plain": [
       "       mins       avgs  maxs\n",
       "dates                       \n",
       "02-28  65.0  70.655172  80.0\n",
       "03-05  60.0  67.890909  76.0\n",
       "02-29  67.0  71.733333  79.0\n",
       "03-01  64.0  70.032787  76.0\n",
       "03-02  61.0  70.366667  78.0\n",
       "03-03  60.0  70.068966  78.0\n",
       "03-04  57.0  69.272727  77.0"
      ]
     },
     "execution_count": 492,
     "metadata": {},
     "output_type": "execute_result"
    }
   ],
   "source": [
    "normals_df.set_index('dates')\n"
   ]
  },
  {
   "cell_type": "code",
   "execution_count": 491,
   "metadata": {},
   "outputs": [
    {
     "data": {
      "text/html": [
       "<div>\n",
       "<style scoped>\n",
       "    .dataframe tbody tr th:only-of-type {\n",
       "        vertical-align: middle;\n",
       "    }\n",
       "\n",
       "    .dataframe tbody tr th {\n",
       "        vertical-align: top;\n",
       "    }\n",
       "\n",
       "    .dataframe thead th {\n",
       "        text-align: right;\n",
       "    }\n",
       "</style>\n",
       "<table border=\"1\" class=\"dataframe\">\n",
       "  <thead>\n",
       "    <tr style=\"text-align: right;\">\n",
       "      <th></th>\n",
       "      <th>mins</th>\n",
       "      <th>avgs</th>\n",
       "      <th>maxs</th>\n",
       "      <th>dates</th>\n",
       "    </tr>\n",
       "  </thead>\n",
       "  <tbody>\n",
       "    <tr>\n",
       "      <th>0</th>\n",
       "      <td>65.0</td>\n",
       "      <td>70.655172</td>\n",
       "      <td>80.0</td>\n",
       "      <td>02-28</td>\n",
       "    </tr>\n",
       "    <tr>\n",
       "      <th>1</th>\n",
       "      <td>60.0</td>\n",
       "      <td>67.890909</td>\n",
       "      <td>76.0</td>\n",
       "      <td>03-05</td>\n",
       "    </tr>\n",
       "    <tr>\n",
       "      <th>2</th>\n",
       "      <td>67.0</td>\n",
       "      <td>71.733333</td>\n",
       "      <td>79.0</td>\n",
       "      <td>02-29</td>\n",
       "    </tr>\n",
       "    <tr>\n",
       "      <th>3</th>\n",
       "      <td>64.0</td>\n",
       "      <td>70.032787</td>\n",
       "      <td>76.0</td>\n",
       "      <td>03-01</td>\n",
       "    </tr>\n",
       "    <tr>\n",
       "      <th>4</th>\n",
       "      <td>61.0</td>\n",
       "      <td>70.366667</td>\n",
       "      <td>78.0</td>\n",
       "      <td>03-02</td>\n",
       "    </tr>\n",
       "    <tr>\n",
       "      <th>5</th>\n",
       "      <td>60.0</td>\n",
       "      <td>70.068966</td>\n",
       "      <td>78.0</td>\n",
       "      <td>03-03</td>\n",
       "    </tr>\n",
       "    <tr>\n",
       "      <th>6</th>\n",
       "      <td>57.0</td>\n",
       "      <td>69.272727</td>\n",
       "      <td>77.0</td>\n",
       "      <td>03-04</td>\n",
       "    </tr>\n",
       "  </tbody>\n",
       "</table>\n",
       "</div>"
      ],
      "text/plain": [
       "   mins       avgs  maxs  dates\n",
       "0  65.0  70.655172  80.0  02-28\n",
       "1  60.0  67.890909  76.0  03-05\n",
       "2  67.0  71.733333  79.0  02-29\n",
       "3  64.0  70.032787  76.0  03-01\n",
       "4  61.0  70.366667  78.0  03-02\n",
       "5  60.0  70.068966  78.0  03-03\n",
       "6  57.0  69.272727  77.0  03-04"
      ]
     },
     "execution_count": 491,
     "metadata": {},
     "output_type": "execute_result"
    }
   ],
   "source": [
    "normals_df.sort_values(by=['dates'])\n",
    "normals_df"
   ]
  },
  {
   "cell_type": "code",
   "execution_count": 494,
   "metadata": {},
   "outputs": [
    {
     "data": {
      "image/png": "[encoded data removed]",
      "text/plain": [
       "<Figure size 432x288 with 1 Axes>"
      ]
     },
     "metadata": {},
     "output_type": "display_data"
    }
   ],
   "source": [
    "# Plot the daily normals as an area plot with `stacked=False`\n",
    "normals_df.plot.area( stacked=False)\n",
    "\n",
    "tick_locations = np.arange(len(normals_df['dates']))\n",
    "tick_labels = normals_df['dates']\n",
    "\n",
    "plt.xticks(tick_locations ,tick_labels, rotation = 45 )\n",
    "plt.legend(loc='lower right')\n",
    "plt.savefig('Normals by Trip Dates.png')"
   ]
  },
  {
   "cell_type": "code",
   "execution_count": null,
   "metadata": {},
   "outputs": [],
   "source": []
  }
 ],
 "metadata": {
  "kernel_info": {
   "name": "python3"
  },
  "kernelspec": {
   "display_name": "Python 3",
   "language": "python",
   "name": "python3"
  },
  "language_info": {
   "codemirror_mode": {
    "name": "ipython",
    "version": 3
   },
   "file_extension": ".py",
   "mimetype": "text/x-python",
   "name": "python",
   "nbconvert_exporter": "python",
   "pygments_lexer": "ipython3",
   "version": "3.6.5"
  },
  "nteract": {
   "version": "0.9.1"
  },
  "varInspector": {
   "cols": {
    "lenName": 16,
    "lenType": 16,
    "lenVar": 40
   },
   "kernels_config": {
    "python": {
     "delete_cmd_postfix": "",
     "delete_cmd_prefix": "del ",
     "library": "var_list.py",
     "varRefreshCmd": "print(var_dic_list())"
    },
    "r": {
     "delete_cmd_postfix": ") ",
     "delete_cmd_prefix": "rm(",
     "library": "var_list.r",
     "varRefreshCmd": "cat(var_dic_list()) "
    }
   },
   "types_to_exclude": [
    "module",
    "function",
    "builtin_function_or_method",
    "instance",
    "_Feature"
   ],
   "window_display": false
  }
 },
 "nbformat": 4,
 "nbformat_minor": 2
}
